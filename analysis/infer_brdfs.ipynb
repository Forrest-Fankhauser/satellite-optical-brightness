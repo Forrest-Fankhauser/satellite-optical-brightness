{
 "cells": [
  {
   "attachments": {},
   "cell_type": "markdown",
   "metadata": {},
   "source": [
    "### BRDF from Brightness Observation\n",
    "This code infers the BRDFs of the Starlink v1.5's primary surfaces\n",
    "by reducing the error between observation and model prediction. The\n",
    "BRDFs are assumed to be Phong BRDFs with 3 free parameters."
   ]
  },
  {
   "cell_type": "code",
   "execution_count": 2,
   "metadata": {},
   "outputs": [],
   "source": [
    "# Imports\n",
    "import pandas as pd\n",
    "import numpy as np\n",
    "import astropy.time\n",
    "import astropy.coordinates\n",
    "import scipy.optimize\n",
    "from lumos.geometry import Surface\n",
    "import lumos.brdf.library"
   ]
  },
  {
   "cell_type": "code",
   "execution_count": 4,
   "metadata": {},
   "outputs": [],
   "source": [
    "# Read Pomenis database\n",
    "\n",
    "data = pd.read_csv(\"../data/pomenis_observations.csv\", comment = \"#\")\n",
    "\n",
    "satellite_heights = 1000 * (data['satellite_height'].to_numpy())\n",
    "observation_times = data['observation_time'].to_numpy()\n",
    "satellite_altitudes = data['satellite_altitude'].to_numpy()\n",
    "satellite_azimuths = data['satellite_azimuth'].to_numpy()\n",
    "measured_magnitudes = data['ab_magnitude'].to_numpy()\n",
    "\n",
    "mount_lemmon = astropy.coordinates.EarthLocation(lat = 32.4434, lon = -110.7881)"
   ]
  },
  {
   "cell_type": "code",
   "execution_count": 5,
   "metadata": {},
   "outputs": [],
   "source": [
    "# Converts from observation time to Sun's altitude and azimuth\n",
    "sun_alts = []\n",
    "sun_azs = []\n",
    "for time in observation_times:\n",
    "    obs_time = astropy.time.Time(time, format = 'isot')\n",
    "    sun_alt, sun_az = lumos.calculator.get_sun_alt_az(obs_time, mount_lemmon)\n",
    "    sun_alts.append(sun_alt)\n",
    "    sun_azs.append(sun_az)"
   ]
  },
  {
   "cell_type": "code",
   "execution_count": 6,
   "metadata": {},
   "outputs": [
    {
     "name": "stdout",
     "output_type": "stream",
     "text": [
      "RMS = 0.762\n"
     ]
    }
   ],
   "source": [
    "# Main function to minimize RMS between model prediction and observations\n",
    "def optimization(params):\n",
    "\n",
    "    p1, p2, p3, p4, p5, p6 = params\n",
    "\n",
    "    calculated_intensities = np.zeros_like(measured_magnitudes)\n",
    "\n",
    "    # Sets up surfaces of satellite, one for the chassis and one for the solar array\n",
    "    # Phong parameters, p1 - p6 vary\n",
    "    surfaces = [\n",
    "        Surface(1.0, np.array([0, 0, -1]), lumos.brdf.library.PHONG(p1, p2, p3)),\n",
    "        Surface(1.0, np.array([0, 1, 0]), lumos.brdf.library.PHONG(p4, p5, p6))\n",
    "        ]\n",
    "\n",
    "    # Calculates predicted AB Mag for every observation\n",
    "    for i, (sat_alt, sat_az, sat_h, sun_alt, sun_az) \\\n",
    "        in enumerate(zip(satellite_altitudes, satellite_azimuths, satellite_heights, sun_alts, sun_azs)):\n",
    "\n",
    "        calculated_intensities[i] = lumos.calculator.get_intensity_observer_frame(\n",
    "            surfaces,\n",
    "            sat_h,\n",
    "            sat_alt,\n",
    "            sat_az,\n",
    "            sun_alt,\n",
    "            sun_az,\n",
    "            include_sun = True,\n",
    "            include_earthshine = False\n",
    "            )\n",
    "    \n",
    "    calculated_magnitudes = lumos.conversions.intensity_to_ab_mag(calculated_intensities)\n",
    "\n",
    "    # Return RMS between prediction and actual observation\n",
    "    error = calculated_magnitudes - measured_magnitudes\n",
    "    rms = np.sqrt( np.mean( error**2 ) )\n",
    "    return rms\n",
    "\n",
    "sol = scipy.optimize.minimize(\n",
    "    optimization,\n",
    "    x0 = (1, 1, 1, 1, 1, 1),\n",
    "    bounds = ( (0, 20), (0, 20), (0, 200), \n",
    "               (0, 20), (0, 20), (0, 200)) )\n",
    "\n",
    "Kd1, Ks1, n1, Kd2, Ks2, n2 = sol.x\n",
    "print(f\"RMS = {sol.fun:0.3f}\")"
   ]
  },
  {
   "cell_type": "code",
   "execution_count": 7,
   "metadata": {},
   "outputs": [
    {
     "name": "stdout",
     "output_type": "stream",
     "text": [
      "Chassis Inferred BRDF Parameters\n",
      "------------------------------------\n",
      "Kd = 0.34\n",
      "Ks = 0.40\n",
      "n = 8.86\n",
      "Solar Array Inferred BRDF Parameters\n",
      "------------------------------------\n",
      "Kd = 0.15\n",
      "Ks = 0.25\n",
      "n = 0.26\n"
     ]
    }
   ],
   "source": [
    "print(\"Chassis Inferred BRDF Parameters\")\n",
    "print(\"------------------------------------\")\n",
    "print(f\"Kd = {Kd1:0.2f}\")\n",
    "print(f\"Ks = {Ks1:0.2f}\")\n",
    "print(f\"n = {n1:0.2f}\")\n",
    "\n",
    "print(\"Solar Array Inferred BRDF Parameters\")\n",
    "print(\"------------------------------------\")\n",
    "print(f\"Kd = {Kd2:0.2f}\")\n",
    "print(f\"Ks = {Ks2:0.2f}\")\n",
    "print(f\"n = {n2:0.2f}\")"
   ]
  }
 ],
 "metadata": {
  "kernelspec": {
   "display_name": "venv",
   "language": "python",
   "name": "python3"
  },
  "language_info": {
   "codemirror_mode": {
    "name": "ipython",
    "version": 3
   },
   "file_extension": ".py",
   "mimetype": "text/x-python",
   "name": "python",
   "nbconvert_exporter": "python",
   "pygments_lexer": "ipython3",
   "version": "3.11.3"
  },
  "orig_nbformat": 4
 },
 "nbformat": 4,
 "nbformat_minor": 2
}
