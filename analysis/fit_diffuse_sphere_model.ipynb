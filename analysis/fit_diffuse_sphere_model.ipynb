{
 "cells": [
  {
   "attachments": {},
   "cell_type": "markdown",
   "metadata": {},
   "source": [
    "### Diffuse Sphere Model Fitting\n",
    "This code fits the albedo-area parameter in the diffuse sphere model to\n",
    "observations of Starlink v1.5 brightness from the Pomenis observatory"
   ]
  },
  {
   "cell_type": "code",
   "execution_count": 1,
   "metadata": {},
   "outputs": [],
   "source": [
    "# Imports\n",
    "import pandas as pd\n",
    "import numpy as np\n",
    "import astropy.time\n",
    "import astropy.coordinates\n",
    "import scipy.optimize\n",
    "import matplotlib.pyplot as plt\n",
    "import satellite_models.diffuse_sphere as diffuse_sphere\n",
    "import lumos.calculator"
   ]
  },
  {
   "cell_type": "code",
   "execution_count": 2,
   "metadata": {},
   "outputs": [],
   "source": [
    "# Read Pomenis database\n",
    "\n",
    "data = pd.read_csv(\"../data/pomenis_observations.csv\", comment = \"#\")\n",
    "\n",
    "satellite_heights = 1000 * (data['satellite_height'].to_numpy())\n",
    "observation_times = data['observation_time'].to_numpy()\n",
    "satellite_altitudes = data['satellite_altitude'].to_numpy()\n",
    "satellite_azimuths = data['satellite_azimuth'].to_numpy()\n",
    "measured_magnitudes = data['ab_magnitude'].to_numpy()\n",
    "\n",
    "mount_lemmon = astropy.coordinates.EarthLocation(lat = 32.4434, lon = -110.7881)"
   ]
  },
  {
   "cell_type": "code",
   "execution_count": 3,
   "metadata": {},
   "outputs": [],
   "source": [
    "# Calculate diffuse sphere model intensities\n",
    "# for albedo-area product of 1\n",
    "\n",
    "sphere_intensities = np.zeros_like(measured_magnitudes)\n",
    "\n",
    "for i, (sat_alt, sat_az, sat_h, time) \\\n",
    "    in enumerate(zip(satellite_altitudes, satellite_azimuths, satellite_heights, observation_times)):\n",
    "\n",
    "    observation_time = astropy.time.Time(time, format = 'isot')\n",
    "    sun_alt, sun_az = lumos.calculator.get_sun_alt_az(observation_time, mount_lemmon)\n",
    "\n",
    "    sphere_intensities[i] = \\\n",
    "        diffuse_sphere.get_intensity(\n",
    "            1,\n",
    "            sat_h,\n",
    "            sat_alt,\n",
    "            sat_az,\n",
    "            sun_alt,\n",
    "            sun_az)"
   ]
  },
  {
   "cell_type": "code",
   "execution_count": 4,
   "metadata": {},
   "outputs": [
    {
     "name": "stdout",
     "output_type": "stream",
     "text": [
      "Best Fit Albedo-Area Product: 0.649\n",
      "RMS : 1.178\n"
     ]
    }
   ],
   "source": [
    "# Scale our precalculated values to a given area-albedo product\n",
    "# and convert to AB Magnitude\n",
    "\n",
    "def sphere_model_optimization(area_albedo):\n",
    "    \n",
    "    sphere_magnitudes = lumos.conversions.intensity_to_ab_mag(area_albedo * sphere_intensities)\n",
    "\n",
    "    error = sphere_magnitudes - measured_magnitudes\n",
    "    rms = np.sqrt( np.mean( error**2 ) )\n",
    "\n",
    "    return rms\n",
    "\n",
    "sol = scipy.optimize.minimize_scalar(sphere_model_optimization, bounds = (0, 100))\n",
    "\n",
    "print(f\"Best Fit Albedo-Area Product: {sol.x:0.3f}\")\n",
    "print(f\"RMS : {sol.fun:0.3f}\")\n",
    "        "
   ]
  }
 ],
 "metadata": {
  "kernelspec": {
   "display_name": "venv",
   "language": "python",
   "name": "python3"
  },
  "language_info": {
   "codemirror_mode": {
    "name": "ipython",
    "version": 3
   },
   "file_extension": ".py",
   "mimetype": "text/x-python",
   "name": "python",
   "nbconvert_exporter": "python",
   "pygments_lexer": "ipython3",
   "version": "3.11.3"
  },
  "orig_nbformat": 4
 },
 "nbformat": 4,
 "nbformat_minor": 2
}
